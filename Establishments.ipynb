{
 "cells": [
  {
   "cell_type": "markdown",
   "id": "8d831c5c-249f-4141-a1ba-af34f88268a6",
   "metadata": {
    "tags": []
   },
   "source": [
    "Before running this code, be sure to import the following json file:\n",
    "mongoimport --type json -d uk_food -c establishments --drop --jsonArray establishments.json"
   ]
  },
  {
   "cell_type": "code",
   "execution_count": 2,
   "id": "f17ad8fd-6ffd-4ec4-aec8-28aa497ba0cb",
   "metadata": {
    "tags": []
   },
   "outputs": [],
   "source": [
    "# Import dependencies\n",
    "from pymongo import MongoClient\n",
    "from pprint import pprint"
   ]
  },
  {
   "cell_type": "code",
   "execution_count": 3,
   "id": "ab49f1fb-9bf3-4caf-8062-20cea9a1347a",
   "metadata": {
    "tags": []
   },
   "outputs": [],
   "source": [
    "# Create an instance of MongoClient\n",
    "mongo = MongoClient(port=271017)"
   ]
  },
  {
   "cell_type": "code",
   "execution_count": null,
   "id": "5ab78b6a-1c6d-4f9d-9917-4d45271168cd",
   "metadata": {
    "tags": []
   },
   "outputs": [],
   "source": []
  },
  {
   "cell_type": "code",
   "execution_count": null,
   "id": "0a8b78c3-e530-46bf-975b-696724882e01",
   "metadata": {},
   "outputs": [],
   "source": []
  }
 ],
 "metadata": {
  "kernelspec": {
   "display_name": "Python 3 (ipykernel)",
   "language": "python",
   "name": "python3"
  },
  "language_info": {
   "codemirror_mode": {
    "name": "ipython",
    "version": 3
   },
   "file_extension": ".py",
   "mimetype": "text/x-python",
   "name": "python",
   "nbconvert_exporter": "python",
   "pygments_lexer": "ipython3",
   "version": "3.10.11"
  }
 },
 "nbformat": 4,
 "nbformat_minor": 5
}
